{
 "cells": [
  {
   "cell_type": "code",
   "execution_count": 16,
   "metadata": {
    "id": "Nygdl2G9Nieo"
   },
   "outputs": [],
   "source": [
    "# load the 2 npy files created by the process_yale_images.ipynb \n",
    "from numpy import load\n",
    "import numpy as np\n",
    "\n",
    "# load array\n",
    "y = load('./yaleExtB_target.npy')\n",
    "X = load('./yaleExtB_data.npy')"
   ]
  },
  {
   "cell_type": "code",
   "execution_count": 17,
   "metadata": {
    "id": "Th62dSshOXqa"
   },
   "outputs": [],
   "source": [
    "from sklearn.model_selection import train_test_split # loads functions from the ML library sklearn \n",
    "from sklearn.metrics import classification_report\n",
    "from sklearn.decomposition import PCA\n",
    "from sklearn.neural_network import MLPClassifier"
   ]
  },
  {
   "cell_type": "code",
   "execution_count": 18,
   "metadata": {
    "id": "uz5JnDUOOgEw"
   },
   "outputs": [],
   "source": [
    "# split into a training and testing set\n",
    "X_train, X_test, y_train, y_test = train_test_split(X, y, test_size=0.33)"
   ]
  },
  {
   "cell_type": "code",
   "execution_count": 19,
   "metadata": {
    "id": "I3HtYdw6Oj6J"
   },
   "outputs": [],
   "source": [
    "# PCA \n",
    "nof_prin_components = 200  # PARAMETER for optimisation in expereiments\n",
    "pca = PCA(n_components=nof_prin_components, whiten=True).fit(X_train)\n",
    "\n",
    "# applies PCA to the train and test images to calculate the principal components\n",
    "X_pca = pca.transform(X)\n",
    "X_train_pca = pca.transform(X_train) \n",
    "X_test_pca = pca.transform(X_test)"
   ]
  },
  {
   "cell_type": "markdown",
   "metadata": {
    "id": "s4PyCqp6PwDl"
   },
   "source": [
    "[Documentation of ML sklearn library](https://scikit-learn.org/stable/modules/generated/sklearn.neural_network.MLPClassifier.html#sklearn.neural_network.MLPClassifier)"
   ]
  },
  {
   "cell_type": "code",
   "execution_count": null,
   "metadata": {
    "id": "xZ3tZ3u9On_z"
   },
   "outputs": [
    {
     "name": "stdout",
     "output_type": "stream",
     "text": [
      "Fitting the classifier to the training set\n",
      "Iteration 1, loss = 3.64749074\n",
      "Validation score: 0.049505\n",
      "Iteration 2, loss = 3.62961954\n",
      "Validation score: 0.049505\n",
      "Iteration 3, loss = 3.60215338\n",
      "Validation score: 0.049505\n",
      "Iteration 4, loss = 3.56853446\n",
      "Validation score: 0.049505\n",
      "Iteration 5, loss = 3.53090165\n",
      "Validation score: 0.059406\n",
      "Iteration 6, loss = 3.49090318\n",
      "Validation score: 0.069307\n",
      "Iteration 7, loss = 3.44925825\n",
      "Validation score: 0.079208\n",
      "Iteration 8, loss = 3.40678226\n",
      "Validation score: 0.079208\n",
      "Iteration 9, loss = 3.36368231\n",
      "Validation score: 0.079208\n",
      "Iteration 10, loss = 3.32043709\n",
      "Validation score: 0.079208\n",
      "Iteration 11, loss = 3.27716869\n",
      "Validation score: 0.099010\n",
      "Iteration 12, loss = 3.23370180\n",
      "Validation score: 0.099010\n",
      "Iteration 13, loss = 3.19063491\n",
      "Validation score: 0.099010\n",
      "Iteration 14, loss = 3.14763637\n",
      "Validation score: 0.099010\n",
      "Iteration 15, loss = 3.10465754\n",
      "Validation score: 0.118812\n",
      "Iteration 16, loss = 3.06230183\n",
      "Validation score: 0.118812\n",
      "Iteration 17, loss = 3.01994929\n",
      "Validation score: 0.128713\n",
      "Iteration 18, loss = 2.97798848\n",
      "Validation score: 0.128713\n",
      "Iteration 19, loss = 2.93623232\n",
      "Validation score: 0.148515\n",
      "Iteration 20, loss = 2.89488298\n",
      "Validation score: 0.168317\n",
      "Iteration 21, loss = 2.85389871\n",
      "Validation score: 0.198020\n",
      "Iteration 22, loss = 2.81305248\n",
      "Validation score: 0.217822\n",
      "Iteration 23, loss = 2.77262535\n",
      "Validation score: 0.237624\n"
     ]
    }
   ],
   "source": [
    "# train a neural network\n",
    "nohn = 250 # nof hidden neurons\n",
    "print(\"Fitting the classifier to the training set\")\n",
    "clf = MLPClassifier(hidden_layer_sizes=(nohn,), \n",
    "                    solver='sgd',\n",
    "                    activation='tanh',\n",
    "                    batch_size=250, verbose=True, early_stopping=True).fit(X_train_pca, y_train)"
   ]
  },
  {
   "cell_type": "code",
   "execution_count": null,
   "metadata": {
    "id": "GpQlLK8wO-lw"
   },
   "outputs": [],
   "source": [
    "y_pred = clf.predict(X_test_pca) # reoognises the test images \n",
    "print(classification_report(y_test, y_pred)) # the recognition accuracy"
   ]
  }
 ],
 "metadata": {
  "colab": {
   "provenance": [
    {
     "file_id": "14M376QiNVa2PMrATy9wvhC8nAZCKLG1j",
     "timestamp": 1675323166114
    }
   ]
  },
  "kernelspec": {
   "display_name": "Python 3 (ipykernel)",
   "language": "python",
   "name": "python3"
  },
  "language_info": {
   "codemirror_mode": {
    "name": "ipython",
    "version": 3
   },
   "file_extension": ".py",
   "mimetype": "text/x-python",
   "name": "python",
   "nbconvert_exporter": "python",
   "pygments_lexer": "ipython3",
   "version": "3.10.7"
  }
 },
 "nbformat": 4,
 "nbformat_minor": 1
}
