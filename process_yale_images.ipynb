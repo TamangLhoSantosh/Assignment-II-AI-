{
 "cells": [
  {
   "cell_type": "code",
   "execution_count": 1,
   "metadata": {},
   "outputs": [],
   "source": [
    "path = \"./\""
   ]
  },
  {
   "cell_type": "code",
   "execution_count": 5,
   "metadata": {},
   "outputs": [
    {
     "name": "stdout",
     "output_type": "stream",
     "text": [
      "patool: Extracting Tr0.zip ...\n",
      "patool: ... Tr0.zip extracted to `./'.\n"
     ]
    }
   ],
   "source": [
    "import patoolib\n",
    "\n",
    "patoolib.extract_archive(\"Tr0.zip\", outdir=\"./\")\n",
    "\n",
    "dnam = \"Tr0\""
   ]
  },
  {
   "cell_type": "markdown",
   "metadata": {
    "id": "n1D37E98FShO"
   },
   "source": [
    "Make a list of all images in the directory. "
   ]
  },
  {
   "cell_type": "code",
   "execution_count": 6,
   "metadata": {
    "colab": {
     "base_uri": "https://localhost:8080/",
     "height": 222
    },
    "executionInfo": {
     "elapsed": 432,
     "status": "error",
     "timestamp": 1675663583334,
     "user": {
      "displayName": "Santosh Tamang",
      "userId": "06163927352790147184"
     },
     "user_tz": -345
    },
    "id": "8bwQb2k8FV68",
    "outputId": "17b8b479-96e9-47ef-9dc6-2d34b5c36bfa"
   },
   "outputs": [
    {
     "name": "stdout",
     "output_type": "stream",
     "text": [
      "Number of images 1500\n"
     ]
    }
   ],
   "source": [
    "from os import listdir # loads a library to work with directories \n",
    "fls = listdir(path + dnam) # creates a list of all image files\n",
    "n = len(fls) # the number of the image files  \n",
    "print('Number of images %i' % n)"
   ]
  },
  {
   "cell_type": "markdown",
   "metadata": {
    "id": "EFCynGy8F_Zb"
   },
   "source": [
    " Load and display 1st image using Matplotlib"
   ]
  },
  {
   "cell_type": "code",
   "execution_count": 8,
   "metadata": {
    "colab": {
     "base_uri": "https://localhost:8080/",
     "height": 286
    },
    "executionInfo": {
     "elapsed": 7,
     "status": "ok",
     "timestamp": 1675324157153,
     "user": {
      "displayName": "Santosh Tamang",
      "userId": "06163927352790147184"
     },
     "user_tz": -345
    },
    "id": "HB8yeiSPGHXS",
    "outputId": "924f3f44-7c3c-4825-dc08-183cd62e8440"
   },
   "outputs": [
    {
     "name": "stdout",
     "output_type": "stream",
     "text": [
      "(77, 68)\n"
     ]
    },
    {
     "data": {
      "image/png": "[encoded data removed]",
      "text/plain": [
       "<Figure size 640x480 with 1 Axes>"
      ]
     },
     "metadata": {},
     "output_type": "display_data"
    }
   ],
   "source": [
    "from matplotlib import image # loads a library to work with images\n",
    "from matplotlib import pyplot # loads a library to plot images\n",
    "im1 = image.imread(path + dnam + '/' + fls[0]) # chooses 1st image from the image list\n",
    "print(im1.shape) # prints the size in pixels of the chosen image \n",
    "pyplot.imshow(im1, cmap=pyplot.cm.gray) # displays the image\n",
    "pyplot.show()"
   ]
  },
  {
   "cell_type": "markdown",
   "metadata": {
    "id": "4Xh3KQ8GZNMn"
   },
   "source": [
    "Create the data and target for training an ANN. The data will be a matrix of n=1500 rows and h*w columns, where n is the number of images, h=77 and w=68 are the height and width of an image in pixels. The target will be a nx1 matrix."
   ]
  },
  {
   "cell_type": "code",
   "execution_count": 9,
   "metadata": {
    "id": "aBuoQCynGHfy"
   },
   "outputs": [],
   "source": [
    "import numpy as np  # loads a library for working with matrixes \n",
    "m=im1.shape[0]*im1.shape[1]  # m = h*w = (77*68=5236) is the number of pixels in images\n",
    "images_data = np.zeros((n, m)) # creates a nxm-matrix of the images\n",
    "images_target = np.zeros((n,))  # creates a n*1 matrix of targets which are the person labels 1 tp 30\n",
    "# loops over all n=1500 images \n",
    "for i in range(0, n):\n",
    "  filename = fls[i]  # loads a name of the image file\n",
    "  img = image.imread(path + dnam + '/' + filename) # loads the image name\n",
    "  images_data[i,:] = np.ravel(img) # vectorisation of the image \n",
    "  c = int(filename[5:7])  # extracts the class label from the file name\n",
    "  images_target[i] = c  # assigns the target \n",
    "  #if i % 10 == 0:\n",
    "  #  print('> loaded %s %s %s' % (i, filename, c)) # prints the image name"
   ]
  },
  {
   "cell_type": "markdown",
   "metadata": {
    "id": "22YCdWm8JcFb"
   },
   "source": [
    "Save the data and target on Google drive as .npy files."
   ]
  },
  {
   "cell_type": "code",
   "execution_count": 10,
   "metadata": {
    "id": "1bKAlBRNJdSG"
   },
   "outputs": [],
   "source": [
    "from numpy import asarray # loads a library for saving matrices\n",
    "from numpy import save\n",
    "# save as a .npy file\n",
    "fn = (path + '/' + 'yaleExtB_data.npy') # creates the file name for the image data\n",
    "save(fn, images_data) \n",
    "fn = (path + '/' + 'yaleExtB_target.npy') # creates the file name for the targets\n",
    "save(fn, images_target)\n"
   ]
  },
  {
   "cell_type": "code",
   "execution_count": 17,
   "metadata": {
    "colab": {
     "base_uri": "https://localhost:8080/"
    },
    "executionInfo": {
     "elapsed": 5,
     "status": "ok",
     "timestamp": 1675324166855,
     "user": {
      "displayName": "Santosh Tamang",
      "userId": "06163927352790147184"
     },
     "user_tz": -345
    },
    "id": "zO2SvR6w5ZQw",
    "outputId": "dcf70118-38e4-48f9-b3ad-48e5cf832796"
   },
   "outputs": [
    {
     "name": "stdout",
     "output_type": "stream",
     "text": [
      "\u001b[34mTr0\u001b[m\u001b[m/                       process_yale_images.ipynb\r\n",
      "Tr0.zip                    yaleExtB_data.npy\r\n",
      "\u001b[34mVirtual\u001b[m\u001b[m/                   yaleExtB_target.npy\r\n",
      "classify_yale.ipynb\r\n"
     ]
    }
   ],
   "source": [
    "# shows the files in the root, including 2 files *.npy \n",
    "%ls \"./\""
   ]
  }
 ],
 "metadata": {
  "colab": {
   "provenance": [
    {
     "file_id": "1yDoCPZcnNGz0z8xbrFcu8cnluMp5zvDJ",
     "timestamp": 1675323171114
    }
   ]
  },
  "kernelspec": {
   "display_name": "Python 3 (ipykernel)",
   "language": "python",
   "name": "python3"
  },
  "language_info": {
   "codemirror_mode": {
    "name": "ipython",
    "version": 3
   },
   "file_extension": ".py",
   "mimetype": "text/x-python",
   "name": "python",
   "nbconvert_exporter": "python",
   "pygments_lexer": "ipython3",
   "version": "3.10.7"
  }
 },
 "nbformat": 4,
 "nbformat_minor": 1
}
